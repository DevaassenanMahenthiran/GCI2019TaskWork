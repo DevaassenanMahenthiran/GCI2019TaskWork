{
 "cells": [
  {
   "cell_type": "markdown",
   "metadata": {},
   "source": [
    "# Solving the Iris Dataset with Keras\n",
    "I will be using Tensorflow's high level Keras Layers API for this simple classification machine learning problem that predicts if a flower is an Iris Setosa, Iris Versicolor or an Iris Virginica based on it's sepal length and width and it's petal length and width.\n",
    "\n",
    "![alt text](https://miro.medium.com/fit/c/1838/551/0*Uw37vrrKzeEWahdB \"Logo Title Text 1\")\n",
    "\n",
    "## Imports\n",
    "First, we make our imports which include Tensorflow to use the Keras Layers API to model the neural network, NumPy for data handling, Pandas to load the data from a CSV file, matplotlib to plot model loss and accuracy, and Scikitlearn to standardize the data and split it into train and test sets."
   ]
  },
  {
   "cell_type": "code",
   "execution_count": null,
   "metadata": {},
   "outputs": [],
   "source": [
    "import tensorflow as tf\n",
    "import numpy as np\n",
    "import pandas as pd\n",
    "import matplotlib.pyplot as plt\n",
    "from sklearn.preprocessing import StandardScaler\n",
    "from sklearn.model_selection import train_test_split"
   ]
  },
  {
   "cell_type": "markdown",
   "metadata": {},
   "source": [
    "## Loading Data and Data Handling\n",
    "The data is stored in a csv file and is loaded using Pandas' handy read_csv function. The data happens to have no missing values so we need not deal with that. In order to suit a classification task better, we one-hot encode the unique classes instead of leaving the class as a string with flower's name using Pandas' get_dummies function. Example of one-hot encoding of colors:\n",
    "\n",
    "![alt text](https://www.machinelearningplus.com/wp-content/uploads/2018/03/one-hot-encoding.png \"Logo Title Text 1\")\n",
    "\n",
    "Due to the fact that each input operates on different a scale, we have to standardize all the values in order to make sure the model can easily analyze them. Then the data is split into train and test sets so we can train the model with and then test it on values it's never seen before easily. We can do this swiftly by using Scikitlearn's train_test_split function."
   ]
  },
  {
   "cell_type": "code",
   "execution_count": null,
   "metadata": {},
   "outputs": [],
   "source": [
    "# load in data with pandas and do some basic data handling\n",
    "df = pd.read_csv(\"iris.csv\")\n",
    "y = np.array(pd.get_dummies(df[\"class\"]).values.tolist())\n",
    "\n",
    "# standardize inputs\n",
    "sc = StandardScaler()\n",
    "df.drop(\"class\", axis=1, inplace=True)\n",
    "x = sc.fit_transform(df)\n",
    "\n",
    "# split data into train and test sets\n",
    "xTrain, xTest, yTrain, yTest = train_test_split(x, y, test_size=0.2)"
   ]
  },
  {
   "cell_type": "markdown",
   "metadata": {},
   "source": [
    "## Defining the Neural Network\n",
    "Now that the data is ready, we can move on to the network. Using Keras' Layers API, we caneasily do so by adding layers with their dimensions. All layers are initialized with random values meaning the weight and the bias starts with values that are unpredictable. For the hidden layer, there are 7 neurons and the output layer has 3 neurons as that is the number of unique classes. The hidden layer's activation function is ReLU and the output layer's would be Softmax as this is a classification task.\n",
    "\n",
    "![Softmax Activation Function](https://miro.medium.com/max/3042/1*eqQuFgXPUP5L6J_vVH19wg.png \"Logo Title Text 1\")\n",
    "\n",
    "The optimizer used would be Stochastic Graident Descent and fittingly, the function used to calculate the loss of the model at a given epoch would be Categorical Crossentropy.\n",
    "\n",
    "![Categorical Cross Entropy Loss Function](https://static.packt-cdn.com/products/9781789132212/graphics/1d251b77-d2b9-4945-bb21-949c5cd45a39.png)"
   ]
  },
  {
   "cell_type": "code",
   "execution_count": 100,
   "metadata": {},
   "outputs": [],
   "source": [
    "# definining neural network that will find a solution to the data\n",
    "model = tf.keras.Sequential()\n",
    "model.add(tf.keras.layers.Dense(7, activation=\"relu\", kernel_initializer=\"random_normal\", input_dim=4))\n",
    "model.add(tf.keras.layers.Dense(3, activation=\"softmax\", kernel_initializer=\"random_normal\"))\n",
    "model.compile(optimizer=\"sgd\", loss=\"categorical_crossentropy\", metrics=[\"accuracy\"])"
   ]
  },
  {
   "cell_type": "markdown",
   "metadata": {},
   "source": [
    "## Training the Network\n",
    "After training at different epochs, it was found that 1000 epochs was suitable for the model to reach an accuracy of over 95% and a loss that is extremely low meaning that the model as properly fitted itself to the training data."
   ]
  },
  {
   "cell_type": "code",
   "execution_count": null,
   "metadata": {
    "scrolled": false
   },
   "outputs": [],
   "source": [
    "# training the model with respect to the data\n",
    "summary = model.fit(xTrain, yTrain, batch_size=10, epochs=1000)"
   ]
  },
  {
   "cell_type": "markdown",
   "metadata": {},
   "source": [
    "## Visualizing the Model's Progress\n",
    "Keras provides a history of the model's losses and accuracies throughout the training epochs it has been through, using the arrays, we can easily plot the data using matplotlib to visualize how the model progressed as it trained to identify when it may have gotten stuck or made tremendous progress."
   ]
  },
  {
   "cell_type": "code",
   "execution_count": 102,
   "metadata": {},
   "outputs": [
    {
     "data": {
      "image/png": "[encoded data removed]",
      "text/plain": [
       "<Figure size 432x288 with 1 Axes>"
      ]
     },
     "metadata": {
      "needs_background": "light"
     },
     "output_type": "display_data"
    },
    {
     "data": {
      "image/png": "[encoded data removed]",
      "text/plain": [
       "<Figure size 432x288 with 1 Axes>"
      ]
     },
     "metadata": {
      "needs_background": "light"
     },
     "output_type": "display_data"
    }
   ],
   "source": [
    "# plotting loss through training\n",
    "plt.plot(summary.history['loss'])\n",
    "plt.title('Model Loss')\n",
    "plt.ylabel('Loss')\n",
    "plt.xlabel('Epoch')\n",
    "plt.show()\n",
    "\n",
    "# plotting accuracy through training\n",
    "plt.plot(summary.history['accuracy'])\n",
    "plt.title('Model Accuracy')\n",
    "plt.ylabel('Accuracy')\n",
    "plt.xlabel('Epoch')\n",
    "plt.show()"
   ]
  },
  {
   "cell_type": "markdown",
   "metadata": {},
   "source": [
    "As seen from the graphs, the model's loss and accuracy are roughly inversely proportional which indicates the model has learned appropriately.\n",
    "\n",
    "## Testing the Model\n",
    "A test set of inputs and outputs were separated from the dataset so we can test the model on data it has never seen before so might as well do it. We measure the accuracy by dividing the number the model got correct by the total number of IO pairs. We do this by comparing the highest number in the output and prediction vectors. If their indices are the same, it means the model has gotten it right. Testing is also important as it proves that the model has generalized it's solution instead of overfitting and \"memorizing\" the training data."
   ]
  },
  {
   "cell_type": "code",
   "execution_count": 103,
   "metadata": {},
   "outputs": [
    {
     "name": "stdout",
     "output_type": "stream",
     "text": [
      "Accuracy: 100.0%\n"
     ]
    }
   ],
   "source": [
    "# testing our model after training\n",
    "total, correct = 0, 0\n",
    "for x, yExpec in zip(xTest, yTest):\n",
    "    x = np.reshape(x, [1, 4])\n",
    "    yPred = model.predict(x)\n",
    "    if np.argmax(yExpec) == np.argmax(yPred):\n",
    "        correct += 1\n",
    "    total += 1\n",
    "    \n",
    "print(f\"Accuracy: {correct / total * 100}%\")"
   ]
  },
  {
   "cell_type": "markdown",
   "metadata": {},
   "source": [
    "As seen, the model scored a 100% on the test which suggests that the model has found a good, general solution that can seperate Iris Setosa, Versicolor and Virginica from each other."
   ]
  }
 ],
 "metadata": {
  "kernelspec": {
   "display_name": "Python 3",
   "language": "python",
   "name": "python3"
  },
  "language_info": {
   "codemirror_mode": {
    "name": "ipython",
    "version": 3
   },
   "file_extension": ".py",
   "mimetype": "text/x-python",
   "name": "python",
   "nbconvert_exporter": "python",
   "pygments_lexer": "ipython3",
   "version": "3.6.8"
  }
 },
 "nbformat": 4,
 "nbformat_minor": 2
}
