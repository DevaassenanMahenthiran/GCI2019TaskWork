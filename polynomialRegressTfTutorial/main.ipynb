{
 "cells": [
  {
   "cell_type": "markdown",
   "metadata": {},
   "source": [
    "# Polynomial Regression\n",
    "You should know what Linear Regression is by this point, a machine learning algorithm that learns to fit a straight line to the training data it has been given. This is great for data that is easily seen to have a straight line trend. Such as this:\n",
    "\n",
    "![Linear Data](https://media.geeksforgeeks.org/wp-content/uploads/random_linear_data.png)\n",
    "\n",
    "As expected however, there are many datasets that don't have a linear trend that effectively solves it such as this:\n",
    "\n",
    "![Quadratic Data](https://www.statisticshowto.datasciencecentral.com/wp-content/uploads/2016/05/Andragradsfunktion_med_brus_1.png)\n",
    "\n",
    "Upon looking at the data plotted however, we can deduce an order of degree (highest power in the equation) of a function that nicely plots a trendcurve for the data. For example, when taking look at the plot above, we can see that a quadratic formula would work nicely. This is what is defined as Polynomial Regression, using a function that is of higher order of degree than 1 inplace of the linear equation in Linear Regression such as the quadratic equation or cubic equation. Apart from this distinction, all else remains the same.\n",
    "\n",
    "As expected however, we will have more variables to train. In linear regression, we had 2 variables, the weight (slope) and the bias (y-intercept). However, for a quadractic regression (regression performed with a quadratic equation), we have 3 variables we need to train as we need to train the coefficient of the quadratic term (a / weight1), the coefficient for the linear term (b / weight2) and the constant (c / bias) as seen:\n",
    "\n",
    "![Quadratic Equation1](https://latex.codecogs.com/gif.latex?y%3Dax%5E2&plus;bx&plus;c)\n",
    "\n",
    "With the higher order of degree your equation is, the more variables you have to train. With our knowledge of gradient descent, this shouldn't be too hard to do but Polynomial Regression allows us to model many more forms of data.\n",
    "\n",
    "Apart from that, everything else about training a Polynomial Regression Model is exactly the same as training a Linear Regression Model so a lot of the code will look extremely familiar and you would understand most concepts before hand from learning Linear Regression.\n",
    "\n",
    "We will be using Tensorflow for this tutorial.\n",
    "\n",
    "## Imports\n",
    "We import Tensorflow for all the necessary training functions and math operations, Pandas for loading the data from a CSV file and Matplotlib for all our graphing needs."
   ]
  },
  {
   "cell_type": "code",
   "execution_count": 26,
   "metadata": {},
   "outputs": [],
   "source": [
    "import tensorflow as tf\n",
    "import pandas as pd\n",
    "import matplotlib.pyplot as plt\n",
    "import numpy as np"
   ]
  },
  {
   "cell_type": "markdown",
   "metadata": {},
   "source": [
    "## Model Architecture and Training\n",
    "As mentioned, we will be training a quadratic equation to fit the Position Salaries Dataset as it seems to be the simplest and most accurate as seen by plotting it. So, we have 3 trainable variables: a, b, c which we name weight1, weight2 and bias respectively to follow Machine Learning terminology.\n",
    "\n",
    "![Quadratic Equation1](https://latex.codecogs.com/gif.latex?y%3Dax%5E2&plus;bx&plus;c)\n",
    "![Quadratic Equation2](https://latex.codecogs.com/gif.latex?y_%7Bpred%7D%3Dw_%7B1%7Dx%5E2&plus;w_%7B2%7Dx&plus;b)\n",
    "\n",
    "For the training portion, it really is quite the same as linear regression. We use the loss function MSE to calculate the loss.\n",
    "\n",
    "![Loss Function](https://latex.codecogs.com/gif.latex?loss%3D%5Cfrac%7B1%7D%7Bn%7D%5Csum%20_%7Bi%3D1%7D%5E%7Bn%7D%28y_%7Bpred%7D-y_%7Bexpec%7D%29%5E2)\n",
    "![Loss Function Expanded](https://latex.codecogs.com/gif.latex?loss%3D%5Cfrac%7B1%7D%7Bn%7D%5Csum%20_%7Bi%3D1%7D%5E%7Bn%7D%28w_%7B1%7Dx%5E2&plus;w_%7B2%7Dx&plus;b-y_%7Bexpec%7D%29%5E2)\n",
    "\n",
    "Then we find the partial derivative of the loss function with respect to each variable (weight1, weight2 and bias) and use them to find the optimal values to find the local minimum of the loss function, exactly the same as linear regression! In this case, those partial derivatives would be these:\n",
    "\n",
    "let x = input, w_1 = weight1, w_2 = weight2, b = bias, y_pred = model's prediction, y_expec = expected output, n = number of inputs and corresponding outputs\n",
    "\n",
    "![dloss w.r.t dweight1](https://latex.codecogs.com/gif.latex?%5Cfrac%7B%5Cpartial%20loss%7D%7B%5Cpartial%20w_%7B1%7D%7D%3D%5Cfrac%7B2x%5E2%7D%7Bn%7D%5Csum%20_%7Bi%3D1%7D%5E%7Bn%7D%28w_%7B1%7Dx%5E2&plus;w_%7B2%7Dx&plus;b-y_%7Bexpec%7D%29%3D%5Cfrac%7B2x%5E2%7D%7Bn%7D%5Csum%20_%7Bi%3D1%7D%5E%7Bn%7D%28y_%7Bpred%7D-y_%7Bexpec%7D%29)\n",
    "![dloss w.r.t dweight2](https://latex.codecogs.com/gif.latex?%5Cfrac%7B%5Cpartial%20loss%7D%7B%5Cpartial%20w_%7B2%7D%7D%3D%5Cfrac%7B2x%7D%7Bn%7D%5Csum%20_%7Bi%3D1%7D%5E%7Bn%7D%28w_%7B1%7Dx%5E2&plus;w_%7B2%7Dx&plus;b-y_%7Bexpec%7D%29%3D%5Cfrac%7B2x%7D%7Bn%7D%5Csum%20_%7Bi%3D1%7D%5E%7Bn%7D%28y_%7Bpred%7D-y_%7Bexpec%7D%29)\n",
    "![dloss w.r.t dbias](https://latex.codecogs.com/gif.latex?%5Cfrac%7B%5Cpartial%20loss%7D%7B%5Cpartial%20b%7D%3D%5Cfrac%7B2%7D%7Bn%7D%5Csum%20_%7Bi%3D1%7D%5E%7Bn%7D%28w_%7B1%7Dx%5E2&plus;w_%7B2%7Dx&plus;b-y_%7Bexpec%7D%29%3D%5Cfrac%7B2%7D%7Bn%7D%5Csum%20_%7Bi%3D1%7D%5E%7Bn%7D%28y_%7Bpred%7D-y_%7Bexpec%7D%29)\n",
    "\n",
    "Thankfully though, we need not code any of this because Tensorflow's Graident Tape and premade optimizers can track down all the variables used in the loss function and find the partial derivatives on its own which is what is done here and then apply them to the weights and bias for an improved model using the Gradient Tape's gradient function. Then we simply apply those computed gradients to the weights and bias and the epoch is complete. We will be using the Stochastic Gradient Descent (SGD) optimizer in this tutorial to keep things as bare boned as possible. To make the trainer and the model easily reusable, we store in the classes so we can instantiate from them an indefinite amount of times."
   ]
  },
  {
   "cell_type": "code",
   "execution_count": 27,
   "metadata": {},
   "outputs": [],
   "source": [
    "class PolynomialRegressionDegree2():\n",
    "    def __init__(self):\n",
    "        #defining weights and biases\n",
    "        self.weight1 = tf.Variable(tf.random.normal(shape=(1, 1)), dtype=\"float32\", name=\"weight1\", trainable=True)\n",
    "        self.weight2 = tf.Variable(tf.random.normal(shape=(1, 1)), dtype=\"float32\", name=\"weight2\", trainable=True)\n",
    "        self.bias = tf.Variable(tf.random.normal(shape=(1, 1)), dtype=\"float32\", name=\"bias\", trainable=True)\n",
    "        \n",
    "    def __call__(self, x):\n",
    "        y = tf.multiply(tf.square(x), self.weight1) + tf.multiply(x, self.weight2) + self.bias\n",
    "        \n",
    "        return y\n",
    "        \n",
    "class PolynomialTrainer:\n",
    "    def __init__(self, learning_rate=1e-2):\n",
    "        self.learning_rate = learning_rate\n",
    "        self.optimizer = tf.optimizers.SGD(self.learning_rate)\n",
    "        self.loss = tf.losses.MSE\n",
    "        \n",
    "    def train(self, polynomial_model, x, y_expec, epochs=1000):\n",
    "        for e in range(epochs):\n",
    "            with tf.GradientTape() as t:\n",
    "                y_pred = polynomial_model(x)\n",
    "                loss = tf.reduce_mean(tf.square(y_expec - y_pred))\n",
    "                grads = t.gradient(loss, [polynomial_model.weight1, polynomial_model.weight2, polynomial_model.bias])\n",
    "                self.optimizer.apply_gradients(zip(grads, [polynomial_model.weight1, polynomial_model.weight2, polynomial_model.bias]))"
   ]
  },
  {
   "cell_type": "markdown",
   "metadata": {},
   "source": [
    "## Dataset Processing and Random Data Generation\n",
    "\n",
    "Knowing our Dataset lies in the file called, \"Position_Salaries.csv\", we can use Pandas' handy read_csv function to load that data into memory as a dataframe object. We then drop the \"Position\" column as it is redundant data due to the fact the \"Level\" column already expresses it and is numerical so we do not have to do carry out more preprocessing. Then, we split our data into outputs and inputs by making \"Level\" our inputs and \"Salary\" as the outputs.\n",
    "\n",
    "Apart from that, it would be nice to see how our model performs on a randomly generated dataset to evaluate how easily it could fit itself to different data. That is why we implement the generateRandomData function. It uses numpy to generate random points along a quadratic curve and each point has a random deviation from the actual curve."
   ]
  },
  {
   "cell_type": "code",
   "execution_count": 28,
   "metadata": {},
   "outputs": [],
   "source": [
    "def processDataset():\n",
    "    with open(\"Position_Salaries.csv\") as file:\n",
    "        dataframe = pd.read_csv(file)\n",
    "    \n",
    "    dataframe.drop(\"Position\", axis=1, inplace=True)\n",
    "    \n",
    "    x = tf.constant(dataframe.drop(\"Salary\", axis=1).values.tolist(), dtype=\"float32\")\n",
    "    y = tf.constant(dataframe[\"Salary\"].values.tolist(), shape=[len(dataframe[\"Salary\"].values.tolist()), 1], dtype=\"float32\")\n",
    "    \n",
    "    return x, y\n",
    "\n",
    "def generateRandomData(minVal, maxVal, numVals, a, b, c):\n",
    "    x = tf.constant(np.linspace(minVal, maxVal, numVals), shape=(numVals, 1), dtype=\"float32\")\n",
    "    y = tf.multiply(a, tf.square(x)) + tf.multiply(b, x) + c + (10 * np.random.randn(numVals, 1))\n",
    "    \n",
    "    return x, y"
   ]
  },
  {
   "cell_type": "markdown",
   "metadata": {},
   "source": [
    "## Train on Random Data\n",
    "We initialize a random dataset by giving the generateRandomData a range to generate values within, the number of inputs we want, a, b, c (weight1, weight2, bias) which we use so we can evaluate how close the model gets. It then does so and returns a set of inputs and corresponding outputs."
   ]
  },
  {
   "cell_type": "code",
   "execution_count": 29,
   "metadata": {},
   "outputs": [],
   "source": [
    "a, b, c = 1.5, 2, 3\n",
    "x, y = generateRandomData(0, 10, 20, a, b, c)"
   ]
  },
  {
   "cell_type": "markdown",
   "metadata": {},
   "source": [
    "The we instantiate a Quadratic Regression Model and it's trainer from the premade classes above. We will use a learning rate of 0.0001 as this value is what allows the model to train without reducing the weights and bias into NaN (Not a Number) values and makes big enough steps that show improvement."
   ]
  },
  {
   "cell_type": "code",
   "execution_count": 30,
   "metadata": {},
   "outputs": [],
   "source": [
    "model = PolynomialRegressionDegree2()\n",
    "trainer = PolynomialTrainer(learning_rate=0.0001)"
   ]
  },
  {
   "cell_type": "markdown",
   "metadata": {},
   "source": [
    "We then train the model on the given dataset for 1000 epochs."
   ]
  },
  {
   "cell_type": "code",
   "execution_count": 31,
   "metadata": {},
   "outputs": [],
   "source": [
    "trainer.train(model, x, y, epochs=1000)"
   ]
  },
  {
   "cell_type": "markdown",
   "metadata": {},
   "source": [
    "To prove that the model has fitted itself to the data, we plot the data and the quadratic curve the model has ended with on a Cartesian Plane in order to see how well the model's solution fits the data."
   ]
  },
  {
   "cell_type": "code",
   "execution_count": 32,
   "metadata": {},
   "outputs": [
    {
     "data": {
      "image/png": "[encoded data removed]",
      "text/plain": [
       "<Figure size 432x288 with 1 Axes>"
      ]
     },
     "metadata": {
      "needs_background": "light"
     },
     "output_type": "display_data"
    }
   ],
   "source": [
    "yPred = model(x)\n",
    "plt.title(\"Random y vs Random x\", loc=\"left\")\n",
    "plt.xlabel(\"x\")\n",
    "plt.ylabel(\"y\")\n",
    "plt.scatter(x, y, c=\"#F17979\", label=\"Data\")\n",
    "plt.plot(x, yPred, c=\"#79F1A0\", label=\"Model's Solution\")\n",
    "plt.legend(loc=\"upper left\")\n",
    "plt.show()"
   ]
  },
  {
   "cell_type": "markdown",
   "metadata": {},
   "source": [
    "As you can see, the model has found a solution which fits the data almost perfectly but not overfitting itself. I'll explain overfitting in just a bit.\n",
    "\n",
    "## Train on the Given Dataset\n",
    "Now that we've tested our model on a randomly generated dataset, might as well test it on some real world data. So we reinitialize our model to reset it with random weights and bias so we can assess it more regularly. The trainer is made in a way that doesn't need reinitialization so we can just reuse the previous one."
   ]
  },
  {
   "cell_type": "code",
   "execution_count": 33,
   "metadata": {},
   "outputs": [],
   "source": [
    "model = PolynomialRegressionDegree2()"
   ]
  },
  {
   "cell_type": "markdown",
   "metadata": {},
   "source": [
    "Next we load in our dataset using the premade processDataset function to split the CSV file with the data into inputs (x) and outputs (y)."
   ]
  },
  {
   "cell_type": "code",
   "execution_count": 34,
   "metadata": {},
   "outputs": [],
   "source": [
    "x, y = processDataset()"
   ]
  },
  {
   "cell_type": "markdown",
   "metadata": {},
   "source": [
    "Then we simply train it like before, again for a 1000 epochs"
   ]
  },
  {
   "cell_type": "code",
   "execution_count": 35,
   "metadata": {},
   "outputs": [],
   "source": [
    "trainer.train(model, x, y, epochs=1000)"
   ]
  },
  {
   "cell_type": "markdown",
   "metadata": {},
   "source": [
    "In order to see how well the model fitted itself, we can scatter plot the training data and then plot the quadratic regression line."
   ]
  },
  {
   "cell_type": "code",
   "execution_count": 36,
   "metadata": {},
   "outputs": [
    {
     "data": {
      "image/png": "[encoded data removed]",
      "text/plain": [
       "<Figure size 432x288 with 1 Axes>"
      ]
     },
     "metadata": {
      "needs_background": "light"
     },
     "output_type": "display_data"
    }
   ],
   "source": [
    "yPred = model(x)\n",
    "plt.title(\"Salary vs Position Level\", loc=\"left\")\n",
    "plt.xlabel(\"Position Level\")\n",
    "plt.ylabel(\"Salary($)\")\n",
    "plt.scatter(x, y, c=\"#F17979\", label=\"Data\")\n",
    "plt.plot(x, yPred, c=\"#79F1A0\", label=\"Model's Solution\")\n",
    "plt.legend(loc=\"upper left\")\n",
    "plt.show()"
   ]
  },
  {
   "cell_type": "markdown",
   "metadata": {},
   "source": [
    "As seen here, the model's quadratic architecture probably isn't the best for this dataset. It tried it's best but simply isn't \"wired\" for the job. An exponential function would suit it better in my opinion, don't you? But that steps into exponential regression, no longer in the realm of polynomial regression or tutorial, but the difference between the 2 is the same as the difference between polynomial and linear regression. A nice challenege for you would be to try exponential regression on the same dataset, with an exponential equation instead of the qudratic one.\n",
    "\n",
    "## Overfitting\n",
    "I promised a brief explanation of overfitting. Overfitting is when the model becomes so accustomed to the train data, it perfectly alligns itself to the data points, so much so, that it does just not know how to handle any unseen data logically and reliably. Akin to a student who is about to take a test, but only studies in the form of memorizing answers for the questions in the review packet instead of actually learning the method to solve all questions of the type. The rise of intelligence comes from a model that is able to generalize so a model that only \"memorized\" it's train data and can't reliably predict for test data is not much more reliable compared to code that has been hardcoded with answers. Overfitting should always be avoided due to this."
   ]
  }
 ],
 "metadata": {
  "kernelspec": {
   "display_name": "Python 3",
   "language": "python",
   "name": "python3"
  },
  "language_info": {
   "codemirror_mode": {
    "name": "ipython",
    "version": 3
   },
   "file_extension": ".py",
   "mimetype": "text/x-python",
   "name": "python",
   "nbconvert_exporter": "python",
   "pygments_lexer": "ipython3",
   "version": "3.6.8"
  }
 },
 "nbformat": 4,
 "nbformat_minor": 2
}
